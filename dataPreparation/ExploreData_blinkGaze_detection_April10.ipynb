{
 "cells": [
  {
   "cell_type": "markdown",
   "id": "059022f6",
   "metadata": {},
   "source": [
    "# Import Libraries"
   ]
  },
  {
   "cell_type": "code",
   "execution_count": 2,
   "id": "f8e54ce5",
   "metadata": {},
   "outputs": [],
   "source": [
    "import pandas as pd\n",
    "import mne\n",
    "import numpy as np\n",
    "import matplotlib.pyplot as plt\n",
    "import scipy\n",
    "from scipy import signal\n",
    "from itertools import groupby\n",
    "import math\n",
    "import neurokit2 as nk\n",
    "from datetime import datetime\n",
    "import json\n",
    "import re\n",
    "from scipy.stats import linregress\n",
    "import os \n",
    "from itertools import product\n",
    "from sklearn.preprocessing import StandardScaler\n",
    "from scipy.signal import butter, lfilter\n",
    "import time\n",
    "\n",
    "\n",
    "# https://neuropsychology.github.io/NeuroKit/functions/eog.html"
   ]
  },
  {
   "cell_type": "code",
   "execution_count": 3,
   "id": "e8a83b01",
   "metadata": {},
   "outputs": [],
   "source": [
    "def column_str_to_float(data, column_names_arr): \n",
    "    # Remove non-numeric characters using regex\n",
    "    for col_name in column_names_arr: \n",
    "        data[col_name] = pd.to_numeric(data[col_name], errors='coerce')\n",
    "        \n",
    "def parse_datetime(cell_value):\n",
    "    try: \n",
    "        cleaned_value = cell_value.strip('\"')\n",
    "    except: \n",
    "        pass\n",
    "    return datetime.strptime(cleaned_value, '%Y-%m-%d %H:%M:%S.%f')\n",
    "\n",
    "def extract_name(json_str):\n",
    "    try:\n",
    "        label_dict = json.loads(json_str)\n",
    "        if 'label' in label_dict:\n",
    "            if isinstance(label_dict['label'], dict) and 'instruction' in label_dict['label']:\n",
    "                return label_dict['label']['instruction'].get('name')\n",
    "    except json.JSONDecodeError:\n",
    "        pass\n",
    "    return None\n",
    "\n",
    "def signal_filter_butterworth(data_col, sr, lowcut, highcut, order=4): #1.5, 15\n",
    "    \"\"\"\n",
    "    Apply butterworth + forward-backward digital filter on a given data column.\n",
    "    Return np.array of that filtered data.\n",
    "\n",
    "    :param data_col: np.array. Columns that only contains values from channel of interest. Shape: (500,)\n",
    "    :param sr : int. Sampling Frequency (Hz)\n",
    "    :param low_cut : float\n",
    "    :param highcut : float\n",
    "    :param order : int. Order of the filter\n",
    "    \"\"\"\n",
    "    sos = scipy.signal.butter(order, [lowcut, highcut], btype=\"bandpass\", output=\"sos\", fs=sr)\n",
    "    filtered = scipy.signal.sosfiltfilt(sos, data_col)\n",
    "    return filtered\n",
    "\n",
    "def detrend_data_linregress_new(prepared_data_channels): \n",
    "    # Fit a linear regression model\n",
    "    \n",
    "    time = prepared_data_channels[\"time_seconds\"]\n",
    "    \n",
    "    for channel in ['eeg0', 'eeg1', 'eog0']:\n",
    "        signal = prepared_data_channels[channel]\n",
    "        slope, intercept, _, _, _ = linregress(time, signal)\n",
    "        # Remove the linear trend\n",
    "        detrended_signal = signal - (slope * time + intercept)\n",
    "        prepared_data_channels[channel] = detrended_signal\n",
    "        print(slope)\n",
    "        print(intercept)\n",
    "\n",
    "    return prepared_data_channels\n",
    "\n",
    "def read_data_study_normalize(subject_name, study_number, normalize_order): \n",
    "    \"\"\"\n",
    "    @subject_name (string)\n",
    "    @study_number (int)\n",
    "    @normalize_order (int)\n",
    "    \"\"\"\n",
    "    data_channels = pd.read_csv('data/attentivU/'+str(subject_name)+'/'+str(study_number)+'/exg0.csv')\n",
    "    study_labels = pd.read_csv('study/'+ str(subject_name)+'/'+str(study_number)+'/events.csv')\n",
    "\n",
    "    study_labels.rename(columns={study_labels.columns[0]: 'timestamp'}, inplace=True)\n",
    "    study_labels['timestamp'] = pd.to_datetime(study_labels['timestamp'].str.strip('\"'), format='%Y-%m-%d %H:%M:%S.%f')\n",
    "    basetime = study_labels['timestamp'].min()\n",
    "    study_labels['time_seconds'] = (study_labels['timestamp'] - basetime).dt.total_seconds()\n",
    "    \n",
    "    data_channels_prepared, data_channels_time = data_detrend(data_channels, normalize_order, basetime)\n",
    "    \n",
    "    return data_channels_prepared, data_channels_time, study_labels #basetime\n",
    "\n",
    "def detrend_data_new(data, order): \n",
    "    \"\"\"\n",
    "    Polyfit data with specified order and detrend each channel \n",
    "    \"\"\"\n",
    "    detrended_data = data.copy()\n",
    "    indices = np.arange(len(detrended_data))\n",
    "    \n",
    "    for channel in ['eeg0', 'eeg1', 'eog0']:\n",
    "        detrended_data[channel] = detrended_data[channel].interpolate(method='linear')\n",
    "        coefficients = np.polyfit(indices, detrended_data[channel], order)\n",
    "        trend = np.polyval(coefficients, indices)\n",
    "        detrended_data[channel] = detrended_data[channel] - trend\n",
    "    return detrended_data"
   ]
  },
  {
   "cell_type": "markdown",
   "id": "9a644ac0",
   "metadata": {},
   "source": [
    "# 1. Read in all data"
   ]
  },
  {
   "cell_type": "markdown",
   "id": "baca0e61",
   "metadata": {},
   "source": [
    "### Get same subject, different session data and merge the data "
   ]
  },
  {
   "cell_type": "code",
   "execution_count": 4,
   "id": "9e81df5b",
   "metadata": {},
   "outputs": [],
   "source": [
    "# Get your subject number you want to explore\n",
    "subject_num = 9\n",
    "\n",
    "file_path = f'data_analysis/data_BlinkGaze/sub{subject_num}s0/{subject_num}_data_blinkGaze.csv'\n",
    "data_blinkGaze = pd.read_csv(file_path)\n",
    "\n",
    "file_path = f'data_analysis/data_BlinkGaze/sub{subject_num}s0/{subject_num}_data_wordBlink.csv'\n",
    "data_wordBlink= pd.read_csv(file_path)\n",
    "\n",
    "file_path = f'data_analysis/data_BlinkGaze/sub{subject_num}s0/{subject_num}_data_cardGame.csv'\n",
    "data_cardGame = pd.read_csv(file_path)\n",
    "\n",
    "#This missing for subject 9 \n",
    "file_path = f'data_analysis/data_BlinkGaze/sub{subject_num}s0/{subject_num}_data_CG_Recall.csv'\n",
    "data_CGRecall = pd.read_csv(file_path)\n",
    "\n",
    "file_path = f'data_analysis/data_BlinkGaze/sub{subject_num}s0/{subject_num}_data_WB_Recall.csv'\n",
    "data_WBRecall = pd.read_csv(file_path)\n",
    "\n",
    "\n",
    "file_path = f'data_analysis/data_BlinkGaze/sub{subject_num}s0/{subject_num}_label_blinkGaze.csv'\n",
    "label_blinkGaze = pd.read_csv(file_path)\n",
    "\n",
    "file_path = f'data_analysis/data_BlinkGaze/sub{subject_num}s0/{subject_num}_label_wordBlink.csv'\n",
    "label_wordBlink= pd.read_csv(file_path)\n",
    "\n",
    "file_path = f'data_analysis/data_BlinkGaze/sub{subject_num}s0/{subject_num}_label_cardGame.csv'\n",
    "label_cardGame = pd.read_csv(file_path)\n",
    "\n",
    "# This missing for subject 9 \n",
    "file_path = f'data_analysis/data_BlinkGaze/sub{subject_num}s0/{subject_num}_label_CG_Recall.csv'\n",
    "label_CGRecall = pd.read_csv(file_path)\n",
    "\n",
    "file_path = f'data_analysis/data_BlinkGaze/sub{subject_num}s0/{subject_num}_label_WB_Recall.csv'\n",
    "label_WBRecall = pd.read_csv(file_path)"
   ]
  },
  {
   "cell_type": "markdown",
   "id": "314e8b5c",
   "metadata": {},
   "source": [
    "# III. Exploring Data below"
   ]
  },
  {
   "cell_type": "code",
   "execution_count": 14,
   "id": "4708cd4d",
   "metadata": {},
   "outputs": [],
   "source": [
    "# def signal_filter_butterworth(data_col, sr, lowcut, highcut, order=4):"
   ]
  },
  {
   "cell_type": "code",
   "execution_count": 5,
   "id": "4f649775",
   "metadata": {},
   "outputs": [
    {
     "name": "stdout",
     "output_type": "stream",
     "text": [
      "188.63625641205783\n",
      "-129965.37588559894\n",
      "198.84478872649083\n",
      "-139171.4481350065\n",
      "115.63888265486223\n",
      "-81961.82554402937\n"
     ]
    }
   ],
   "source": [
    "data_blinkGaze_detrended = detrend_data_linregress_new(data_blinkGaze)"
   ]
  },
  {
   "cell_type": "code",
   "execution_count": 6,
   "id": "da0df703",
   "metadata": {
    "scrolled": true
   },
   "outputs": [
    {
     "data": {
      "text/plain": [
       "[<matplotlib.lines.Line2D at 0x7ff678766ac0>]"
      ]
     },
     "execution_count": 6,
     "metadata": {},
     "output_type": "execute_result"
    },
    {
     "data": {
      "image/png": "[encoded data removed]",
      "text/plain": [
       "<Figure size 432x288 with 1 Axes>"
      ]
     },
     "metadata": {
      "needs_background": "light"
     },
     "output_type": "display_data"
    }
   ],
   "source": [
    "plt.plot(data_blinkGaze_detrended[\"time_seconds\"][15000:45000], data_blinkGaze_detrended[\"eog0\"][15000:45000])"
   ]
  },
  {
   "cell_type": "code",
   "execution_count": 9,
   "id": "5bcfd0b9",
   "metadata": {},
   "outputs": [
    {
     "data": {
      "text/plain": [
       "[<matplotlib.lines.Line2D at 0x7ff6787c43a0>]"
      ]
     },
     "execution_count": 9,
     "metadata": {},
     "output_type": "execute_result"
    },
    {
     "data": {
      "image/png": "[encoded data removed]",
      "text/plain": [
       "<Figure size 432x288 with 1 Axes>"
      ]
     },
     "metadata": {
      "needs_background": "light"
     },
     "output_type": "display_data"
    }
   ],
   "source": [
    "plt.plot(data_blinkGaze_detrended[\"time_seconds\"][15000:45000], signal_filter_butterworth(data_blinkGaze_detrended[\"eog0\"][15000:45000], 250, 0.5, 10))"
   ]
  },
  {
   "cell_type": "code",
   "execution_count": 11,
   "id": "bb8348a0",
   "metadata": {},
   "outputs": [
    {
     "data": {
      "text/plain": [
       "[<matplotlib.lines.Line2D at 0x7ff64807f130>]"
      ]
     },
     "execution_count": 11,
     "metadata": {},
     "output_type": "execute_result"
    },
    {
     "data": {
      "image/png": "[encoded data removed]",
      "text/plain": [
       "<Figure size 432x288 with 1 Axes>"
      ]
     },
     "metadata": {
      "needs_background": "light"
     },
     "output_type": "display_data"
    }
   ],
   "source": [
    "plt.plot(data_blinkGaze_detrended[\"timestamp\"][15000:45000],data_blinkGaze_detrended[\"eeg1\"][15000:45000])"
   ]
  },
  {
   "cell_type": "code",
   "execution_count": 12,
   "id": "c11aa43d",
   "metadata": {},
   "outputs": [
    {
     "data": {
      "text/plain": [
       "[<matplotlib.lines.Line2D at 0x7ff660053700>]"
      ]
     },
     "execution_count": 12,
     "metadata": {},
     "output_type": "execute_result"
    },
    {
     "data": {
      "image/png": "[encoded data removed]",
      "text/plain": [
       "<Figure size 432x288 with 1 Axes>"
      ]
     },
     "metadata": {
      "needs_background": "light"
     },
     "output_type": "display_data"
    }
   ],
   "source": [
    "plt.plot(data_blinkGaze_detrended[\"time_seconds\"][0:30000], signal_filter_butterworth(data_blinkGaze_detrended[\"eeg0\"][15000:45000], 250, 0.5, 10))"
   ]
  },
  {
   "cell_type": "code",
   "execution_count": 16,
   "id": "ac070675",
   "metadata": {},
   "outputs": [
    {
     "data": {
      "text/plain": [
       "array([nan, 'lightblink', 'white', 'rest', 'longblink', 'gazeright',\n",
       "       'gazeleft', 'Rest', '3minBreak'], dtype=object)"
      ]
     },
     "execution_count": 16,
     "metadata": {},
     "output_type": "execute_result"
    }
   ],
   "source": [
    "label_blinkGaze[\"instruction\"].unique()"
   ]
  },
  {
   "cell_type": "markdown",
   "id": "e3a97a95",
   "metadata": {},
   "source": [
    "# IV. Merge EOG/EEG Data and Study Label"
   ]
  },
  {
   "cell_type": "code",
   "execution_count": 18,
   "id": "7d410b5d",
   "metadata": {},
   "outputs": [],
   "source": [
    "# def create_label(row, specifiedLabel_seconds, time_window): # Calculate nearest index\n",
    "#     nearest_idx = np.argmin(np.abs(specifiedLabel_seconds - row['time_seconds']))\n",
    "#     if not (0 <= nearest_idx < len(specifiedLabel_seconds)):\n",
    "#         return 0  # Invalid nearest index\n",
    "    \n",
    "#     if abs(row['time_seconds'] - specifiedLabel_seconds.iloc[nearest_idx]) <= time_window:\n",
    "#         return 1\n",
    "#     else:\n",
    "#         return 0"
   ]
  },
  {
   "cell_type": "code",
   "execution_count": 19,
   "id": "0b36c6fe",
   "metadata": {},
   "outputs": [],
   "source": [
    "# # Task 2: Create a copy of data_channels and name it merged_data\n",
    "# merged_data = data_channels_subset.copy()\n",
    "# merged_data = merged_data[merged_data[\"time_seconds\"]>=0]\n",
    "# time_window = 0.5\n",
    "\n",
    "# study_labels_subset.reset_index(drop=True, inplace=True)\n",
    "# merged_data.reset_index(drop=True, inplace=True)\n",
    "\n",
    "# ##################################LABEL: BLINK############################################\n",
    "# blink = study_labels_subset[study_labels_subset[\"blink_instruction\"]==1]\n",
    "# blink_timestamps = blink['time_seconds']\n",
    "\n",
    "# merged_data['blinkLabel'] = merged_data.apply(lambda row: create_label(row, blink_timestamps, time_window), axis=1)\n",
    "\n",
    "# ##################################LABEL: BLINK############################################\n",
    "# #blink = study_labels_subset[study_labels_subset[\"lightblink_instruction\"]==1]\n",
    "# #blink_timestamps = blink['time_seconds']\n",
    "\n",
    "# #merged_data['lightblinkLabel'] = merged_data.apply(lambda row: create_label(row, blink_timestamps, time_window), axis=1)\n",
    "\n",
    "# ##################################LABEL: BLINK############################################\n",
    "# #blink = study_labels_subset[study_labels_subset[\"longblink_instruction\"]==1]\n",
    "# #blink_timestamps = blink['time_seconds']\n",
    "\n",
    "# #merged_data['longblinkLabel'] = merged_data.apply(lambda row: create_label(row, blink_timestamps, time_window), axis=1)\n",
    "\n",
    "# ##################################LABEL: GAZELR ############################################\n",
    "# gazeLR = study_labels_subset[study_labels_subset[\"gazeLR_instruction\"]==1]\n",
    "# gazeLR_timestamps = gazeLR['time_seconds']\n",
    "# merged_data['gazeLRLabel'] = merged_data.apply(lambda row: create_label(row, gazeLR_timestamps, time_window), axis=1)\n",
    "\n",
    "# ##################################LABEL: GAZELEFT ############################################\n",
    "# gazeLR = study_labels_subset[study_labels_subset[\"gazeLeft_instruction\"]==1]\n",
    "# gazeLR_timestamps = gazeLR['time_seconds']\n",
    "# merged_data['gazeLeftLabel'] = merged_data.apply(lambda row: create_label(row, gazeLR_timestamps, time_window), axis=1)\n",
    "\n",
    "# ##################################LABEL: GAZELRIGHT ############################################\n",
    "# gazeLR = study_labels_subset[study_labels_subset[\"gazeRight_instruction\"]==1]\n",
    "# gazeLR_timestamps = gazeLR['time_seconds']\n",
    "# merged_data['gazeRightLabel'] = merged_data.apply(lambda row: create_label(row, gazeLR_timestamps, time_window), axis=1)\n",
    "\n",
    "# ##################################LABEL: REST ############################################\n",
    "# rest = study_labels_subset[study_labels_subset[\"rest_instruction\"]==1]\n",
    "# rest_timestamps = rest['time_seconds']\n",
    "# merged_data['restLabel'] = merged_data.apply(lambda row: create_label(row, rest_timestamps, time_window), axis=1)"
   ]
  },
  {
   "cell_type": "code",
   "execution_count": 20,
   "id": "5839d7e1",
   "metadata": {},
   "outputs": [],
   "source": [
    "# pd.reset_option('display.max_rows')\n",
    "# print(merged_data.iloc[:80, :])"
   ]
  },
  {
   "cell_type": "code",
   "execution_count": 21,
   "id": "519c6988",
   "metadata": {},
   "outputs": [],
   "source": [
    "# merged_data"
   ]
  },
  {
   "cell_type": "code",
   "execution_count": 22,
   "id": "fb88e795",
   "metadata": {},
   "outputs": [],
   "source": [
    "# prepared_data_channels = merged_data.loc[:, [\"timestamp\", \"eeg0\", \"eeg1\", \"eog0\", \"time_seconds\", \"blinkLabel\",\"gazeLRLabel\", \"gazeLeftLabel\", \"gazeRightLabel\", \"restLabel\"]]\n",
    "\n",
    "# prepared_data_channels"
   ]
  },
  {
   "cell_type": "code",
   "execution_count": 23,
   "id": "1f09cce0",
   "metadata": {},
   "outputs": [],
   "source": [
    "# study_labels_subset.columns"
   ]
  },
  {
   "cell_type": "code",
   "execution_count": 24,
   "id": "ae92657c",
   "metadata": {},
   "outputs": [],
   "source": [
    "# prepared_study_labels = study_labels_subset.loc[:,[\"timestamp\", \"time_seconds\", \"instruction\", \"blink_instruction\", \"gazeLeft_instruction\", \"gazeRight_instruction\", \"gazeLR_instruction\",\"rest_instruction\"]]\n",
    "# prepared_study_labels"
   ]
  }
 ],
 "metadata": {
  "kernelspec": {
   "display_name": "Python 3",
   "language": "python",
   "name": "python3"
  },
  "language_info": {
   "codemirror_mode": {
    "name": "ipython",
    "version": 3
   },
   "file_extension": ".py",
   "mimetype": "text/x-python",
   "name": "python",
   "nbconvert_exporter": "python",
   "pygments_lexer": "ipython3",
   "version": "3.8.8"
  }
 },
 "nbformat": 4,
 "nbformat_minor": 5
}
